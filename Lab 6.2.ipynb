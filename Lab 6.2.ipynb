{
 "cells": [
  {
   "cell_type": "code",
   "execution_count": 44,
   "id": "d7be2228",
   "metadata": {},
   "outputs": [
    {
     "name": "stdout",
     "output_type": "stream",
     "text": [
      "        track_genre                 artists                  track_name\n",
      "0          acoustic             Gen Hoshino                      Comedy\n",
      "1          acoustic            Ben Woodward            Ghost - Acoustic\n",
      "2          acoustic  Ingrid Michaelson;ZAYN              To Begin Again\n",
      "3          acoustic            Kina Grannis  Can't Help Falling In Love\n",
      "4          acoustic        Chord Overstreet                     Hold On\n",
      "...             ...                     ...                         ...\n",
      "113995  world-music           Rainy Lullaby         Sleep My Little Boy\n",
      "113996  world-music           Rainy Lullaby            Water Into Light\n",
      "113997  world-music           Cesária Evora              Miss Perfumado\n",
      "113998  world-music        Michael W. Smith                     Friends\n",
      "113999  world-music           Cesária Evora                   Barbincor\n",
      "\n",
      "[114000 rows x 3 columns]\n"
     ]
    }
   ],
   "source": [
    "import pandas as pd"
   ]
  },
  {
   "cell_type": "code",
   "execution_count": 46,
   "id": "aea07de2",
   "metadata": {},
   "outputs": [
    {
     "name": "stdout",
     "output_type": "stream",
     "text": [
      "        track_genre                 artists                        Song\n",
      "0          acoustic             Gen Hoshino                      Comedy\n",
      "1          acoustic            Ben Woodward            Ghost - Acoustic\n",
      "2          acoustic  Ingrid Michaelson;ZAYN              To Begin Again\n",
      "3          acoustic            Kina Grannis  Can't Help Falling In Love\n",
      "4          acoustic        Chord Overstreet                     Hold On\n",
      "...             ...                     ...                         ...\n",
      "113995  world-music           Rainy Lullaby         Sleep My Little Boy\n",
      "113996  world-music           Rainy Lullaby            Water Into Light\n",
      "113997  world-music           Cesária Evora              Miss Perfumado\n",
      "113998  world-music        Michael W. Smith                     Friends\n",
      "113999  world-music           Cesária Evora                   Barbincor\n",
      "\n",
      "[113999 rows x 3 columns]\n"
     ]
    },
    {
     "name": "stderr",
     "output_type": "stream",
     "text": [
      "C:\\Users\\Utente\\AppData\\Local\\Temp\\ipykernel_46380\\2526686106.py:3: SettingWithCopyWarning: \n",
      "A value is trying to be set on a copy of a slice from a DataFrame\n",
      "\n",
      "See the caveats in the documentation: https://pandas.pydata.org/pandas-docs/stable/user_guide/indexing.html#returning-a-view-versus-a-copy\n",
      "  df.dropna(subset=['track_name'], inplace=True)\n",
      "C:\\Users\\Utente\\AppData\\Local\\Temp\\ipykernel_46380\\2526686106.py:4: SettingWithCopyWarning: \n",
      "A value is trying to be set on a copy of a slice from a DataFrame\n",
      "\n",
      "See the caveats in the documentation: https://pandas.pydata.org/pandas-docs/stable/user_guide/indexing.html#returning-a-view-versus-a-copy\n",
      "  df.rename(columns={'track_name': 'Song'}, inplace=True)\n"
     ]
    }
   ],
   "source": [
    "temp_df = pd.read_csv(\"dataset.csv\", low_memory=False)\n",
    "df = temp_df[['track_genre', 'artists', 'track_name']]\n",
    "df.dropna(subset=['track_name'], inplace=True)\n",
    "df.rename(columns={'track_name': 'Song'}, inplace=True)\n",
    "print(df)"
   ]
  },
  {
   "cell_type": "code",
   "execution_count": 47,
   "id": "5f54db4b",
   "metadata": {},
   "outputs": [
    {
     "name": "stdout",
     "output_type": "stream",
     "text": [
      "['acoustic' 'afrobeat' 'alt-rock' 'alternative' 'ambient' 'anime'\n",
      " 'black-metal' 'bluegrass' 'blues' 'brazil' 'breakbeat' 'british'\n",
      " 'cantopop' 'chicago-house' 'children' 'chill' 'classical' 'club' 'comedy'\n",
      " 'country' 'dance' 'dancehall' 'death-metal' 'deep-house' 'detroit-techno'\n",
      " 'disco' 'disney' 'drum-and-bass' 'dub' 'dubstep' 'edm' 'electro'\n",
      " 'electronic' 'emo' 'folk' 'forro' 'french' 'funk' 'garage' 'german'\n",
      " 'gospel' 'goth' 'grindcore' 'groove' 'grunge' 'guitar' 'happy'\n",
      " 'hard-rock' 'hardcore' 'hardstyle' 'heavy-metal' 'hip-hop' 'honky-tonk'\n",
      " 'house' 'idm' 'indian' 'indie-pop' 'indie' 'industrial' 'iranian'\n",
      " 'j-dance' 'j-idol' 'j-pop' 'j-rock' 'jazz' 'k-pop' 'kids' 'latin'\n",
      " 'latino' 'malay' 'mandopop' 'metal' 'metalcore' 'minimal-techno' 'mpb'\n",
      " 'new-age' 'opera' 'pagode' 'party' 'piano' 'pop-film' 'pop' 'power-pop'\n",
      " 'progressive-house' 'psych-rock' 'punk-rock' 'punk' 'r-n-b' 'reggae'\n",
      " 'reggaeton' 'rock-n-roll' 'rock' 'rockabilly' 'romance' 'sad' 'salsa'\n",
      " 'samba' 'sertanejo' 'show-tunes' 'singer-songwriter' 'ska' 'sleep'\n",
      " 'songwriter' 'soul' 'spanish' 'study' 'swedish' 'synth-pop' 'tango'\n",
      " 'techno' 'trance' 'trip-hop' 'turkish' 'world-music']\n"
     ]
    }
   ],
   "source": [
    "#print genres\n",
    "unique_values = df['track_genre'].unique()\n",
    "print(unique_values)"
   ]
  },
  {
   "cell_type": "code",
   "execution_count": 48,
   "id": "7b54fe04",
   "metadata": {},
   "outputs": [
    {
     "data": {
      "text/html": [
       "<div>\n",
       "<style scoped>\n",
       "    .dataframe tbody tr th:only-of-type {\n",
       "        vertical-align: middle;\n",
       "    }\n",
       "\n",
       "    .dataframe tbody tr th {\n",
       "        vertical-align: top;\n",
       "    }\n",
       "\n",
       "    .dataframe thead th {\n",
       "        text-align: right;\n",
       "    }\n",
       "</style>\n",
       "<table border=\"1\" class=\"dataframe\">\n",
       "  <thead>\n",
       "    <tr style=\"text-align: right;\">\n",
       "      <th></th>\n",
       "      <th>Artist</th>\n",
       "      <th>Song</th>\n",
       "    </tr>\n",
       "  </thead>\n",
       "  <tbody>\n",
       "    <tr>\n",
       "      <th>0</th>\n",
       "      <td>Olivia Rodrigo</td>\n",
       "      <td>Vampire</td>\n",
       "    </tr>\n",
       "    <tr>\n",
       "      <th>1</th>\n",
       "      <td>Morgan Wallen</td>\n",
       "      <td>Last Night</td>\n",
       "    </tr>\n",
       "    <tr>\n",
       "      <th>2</th>\n",
       "      <td>Luke Combs</td>\n",
       "      <td>Fast Car</td>\n",
       "    </tr>\n",
       "    <tr>\n",
       "      <th>3</th>\n",
       "      <td>Rema &amp; Selena Gomez</td>\n",
       "      <td>Calm Down</td>\n",
       "    </tr>\n",
       "    <tr>\n",
       "      <th>4</th>\n",
       "      <td>Miley Cyrus</td>\n",
       "      <td>Flowers</td>\n",
       "    </tr>\n",
       "  </tbody>\n",
       "</table>\n",
       "</div>"
      ],
      "text/plain": [
       "                Artist        Song\n",
       "0       Olivia Rodrigo     Vampire\n",
       "1        Morgan Wallen  Last Night\n",
       "2           Luke Combs    Fast Car\n",
       "3  Rema & Selena Gomez   Calm Down\n",
       "4          Miley Cyrus     Flowers"
      ]
     },
     "execution_count": 48,
     "metadata": {},
     "output_type": "execute_result"
    }
   ],
   "source": [
    "#import hot songs df\n",
    "hot_df = pd.read_csv(\"hot_songs.csv\")\n",
    "hot_df.head()"
   ]
  },
  {
   "cell_type": "code",
   "execution_count": 49,
   "id": "fffed5c8",
   "metadata": {},
   "outputs": [
    {
     "name": "stdout",
     "output_type": "stream",
     "text": [
      "        track_genre                 artists                        Song  \\\n",
      "0          acoustic             Gen Hoshino                      Comedy   \n",
      "1          acoustic            Ben Woodward            Ghost - Acoustic   \n",
      "2          acoustic  Ingrid Michaelson;ZAYN              To Begin Again   \n",
      "3          acoustic            Kina Grannis  Can't Help Falling In Love   \n",
      "4          acoustic        Chord Overstreet                     Hold On   \n",
      "...             ...                     ...                         ...   \n",
      "113994  world-music           Rainy Lullaby         Sleep My Little Boy   \n",
      "113995  world-music           Rainy Lullaby            Water Into Light   \n",
      "113996  world-music           Cesária Evora              Miss Perfumado   \n",
      "113997  world-music        Michael W. Smith                     Friends   \n",
      "113998  world-music           Cesária Evora                   Barbincor   \n",
      "\n",
      "       Artist     _merge  \n",
      "0         NaN  left_only  \n",
      "1         NaN  left_only  \n",
      "2         NaN  left_only  \n",
      "3         NaN  left_only  \n",
      "4         NaN  left_only  \n",
      "...       ...        ...  \n",
      "113994    NaN  left_only  \n",
      "113995    NaN  left_only  \n",
      "113996    NaN  left_only  \n",
      "113997    NaN  left_only  \n",
      "113998    NaN  left_only  \n",
      "\n",
      "[113999 rows x 5 columns]\n"
     ]
    }
   ],
   "source": [
    "#merge the two df to check the songs that are not shared\n",
    "df = pd.merge(df, hot_df, on=['Song'], how='left', indicator=True)\n",
    "print(df)\n"
   ]
  },
  {
   "cell_type": "code",
   "execution_count": 35,
   "id": "752157f2",
   "metadata": {},
   "outputs": [],
   "source": [
    "#save the df\n",
    "df.to_csv('not_hot_songs.csv', index=False)"
   ]
  },
  {
   "cell_type": "code",
   "execution_count": null,
   "id": "59adbf55",
   "metadata": {},
   "outputs": [],
   "source": []
  }
 ],
 "metadata": {
  "kernelspec": {
   "display_name": "Python 3 (ipykernel)",
   "language": "python",
   "name": "python3"
  },
  "language_info": {
   "codemirror_mode": {
    "name": "ipython",
    "version": 3
   },
   "file_extension": ".py",
   "mimetype": "text/x-python",
   "name": "python",
   "nbconvert_exporter": "python",
   "pygments_lexer": "ipython3",
   "version": "3.9.13"
  }
 },
 "nbformat": 4,
 "nbformat_minor": 5
}
